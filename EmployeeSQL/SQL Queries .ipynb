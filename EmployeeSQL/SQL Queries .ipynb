{
 "cells": [
  {
   "cell_type": "code",
   "execution_count": null,
   "id": "15a619e5",
   "metadata": {},
   "outputs": [],
   "source": [
    "\n",
    "List the following details of each employee: employee number, last name, first name, sex, and salary.\n",
    "\n",
    "SELECT e.emp_no, e.last_name, e.first_name, e.sex\n",
    "FROM employees e\n",
    "JOIN salaries s\n",
    "ON (e.emp_no = s.emp_no)\n",
    "ORDER BY emp_no\n",
    "\n"
   ]
  },
  {
   "cell_type": "code",
   "execution_count": null,
   "id": "469eba0a",
   "metadata": {},
   "outputs": [],
   "source": [
    "ist first name, last name, and hire date for employees who were hired in 1986.\n",
    "\n",
    "SELECT first_name, last_name, hire_date\n",
    "FROM employees\n",
    "WHERE hire_date >= \"1980-01-01\" AND hire_date < \"1981-01-01\""
   ]
  },
  {
   "cell_type": "code",
   "execution_count": null,
   "id": "f8a9fbe0",
   "metadata": {},
   "outputs": [],
   "source": [
    "List the manager of each department with the following information: \n",
    "    department number, department name, the manager's employee number, last name, first name.\n",
    "\n",
    "SELECT d.dept_no, d.dept_name, last_name, first_name\n",
    "FROM employees e \n",
    "    JOIN departments d\n",
    "    ON e.emp_no = d.emp_no\n",
    "        JOIN dept_manager m\n",
    "        ON d.dept_no = m.dept_no\n",
    "\n",
    "    \n",
    "\n",
    "    \n",
    "    SELECT m.dept_no, \n",
    "\td.dept_name,\n",
    "\te.emp_no AS manager_emp_no, \n",
    "\te.last_name, \n",
    "\te.first_name\t\n",
    "FROM employees As e \n",
    "JOIN dept_manager As m\n",
    "ON e.emp_no = m.emp_no\n",
    "\tJOIN departments AS d\n",
    "\t ON m.dept_no = d.dept_no\n"
   ]
  },
  {
   "cell_type": "code",
   "execution_count": null,
   "id": "7ff7f144",
   "metadata": {},
   "outputs": [],
   "source": [
    "List the department of each employee with the following information: \n",
    "    employee number, last name, first name, and department name.\n",
    "    \n",
    "SELECT emp_no, last_name, first_name, dept_name\n",
    "FROM employees e\n",
    "    JOIN departments d\n",
    "    ON \n",
    "    \n",
    "SELECT \n",
    "\te.emp_no, \n",
    "\te.last_name, \n",
    "\te.first_name,\n",
    "\td.dept_name\n",
    "\tFROM employees As e \n",
    "\tJOIN dept_emp As de\n",
    "\tON e.emp_no = de.emp_no\n",
    "\t\tJOIN departments AS d\n",
    "\t\t ON de.dept_no = d.dept_no\n",
    "\n",
    "    \n"
   ]
  },
  {
   "cell_type": "code",
   "execution_count": null,
   "id": "d01e658b",
   "metadata": {},
   "outputs": [],
   "source": [
    "-- List first name, last name, and sex for employees whose first name is \n",
    "-- \"Hercules\" and last names begin with \"B.\"\n",
    "\n",
    "SELECT first_name, last_name, sex\n",
    "FROM employees\n",
    "WHERE (first_name = 'Hercules') AND (last_name LIKE 'B%')\n"
   ]
  },
  {
   "cell_type": "code",
   "execution_count": null,
   "id": "a45e427c",
   "metadata": {},
   "outputs": [],
   "source": [
    "List all employees in the Sales department, including their employee number, last name, first name, and department name.\n",
    "\n",
    "-- List all employees in the Sales department, including their \n",
    "-- employee number, last name, first name, and department name.\n",
    "SELECT e.emp_no, e.Last_name, e.first_name, d.dept_name\n",
    "FROM employees As e\n",
    "\tJOIN dept_emp As de\n",
    "\tON e.emp_no = de.emp_no\n",
    "\t\tJOIN departments As d\n",
    "\t\tON de.dept_no = d.dept_no\n",
    "\t\tWHERE dept_name = 'Sales'\n",
    "    "
   ]
  },
  {
   "cell_type": "code",
   "execution_count": null,
   "id": "da2dd0e0",
   "metadata": {},
   "outputs": [],
   "source": [
    "List all employees in the Sales and Development departments, including \n",
    "their employee number, last name, first name, and department name.\n",
    "\n",
    "-- List all employees in the Sales and Development departments, including \n",
    "-- their employee number, last name, first name, and department name.\n",
    "\n",
    "SELECT e.emp_no, e.Last_name, e.first_name, d.dept_name\n",
    "FROM employees As e\n",
    "\tJOIN dept_emp As de\n",
    "\tON e.emp_no = de.emp_no\n",
    "\t\tJOIN departments As d\n",
    "\t\tON de.dept_no = d.dept_no\n",
    "\t\tWHERE dept_name = 'Sales' OR dept_name = 'Development'\n",
    "\n"
   ]
  },
  {
   "cell_type": "code",
   "execution_count": null,
   "id": "51995370",
   "metadata": {},
   "outputs": [],
   "source": [
    "In descending order, list the frequency count of employee last names, i.e., how many employees share each last name.\n",
    "\n",
    "-- In descending order, list the frequency count of employee last names, i.e., \n",
    "-- how many employees share each last name.\n",
    "\n",
    "SELECT last_name, COUNT(*) AS freq_count\n",
    "FROM Employees\n",
    "GROUP BY last_name\n",
    "ORDER BY freq_count DESC"
   ]
  }
 ],
 "metadata": {
  "kernelspec": {
   "display_name": "Python 3",
   "language": "python",
   "name": "python3"
  },
  "language_info": {
   "codemirror_mode": {
    "name": "ipython",
    "version": 3
   },
   "file_extension": ".py",
   "mimetype": "text/x-python",
   "name": "python",
   "nbconvert_exporter": "python",
   "pygments_lexer": "ipython3",
   "version": "3.8.8"
  }
 },
 "nbformat": 4,
 "nbformat_minor": 5
}
